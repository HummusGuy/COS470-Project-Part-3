{
  "nbformat": 4,
  "nbformat_minor": 0,
  "metadata": {
    "colab": {
      "provenance": [],
      "gpuType": "A100",
      "authorship_tag": "ABX9TyPBLwR1iwi2pMG9PUa8+rRg",
      "include_colab_link": true
    },
    "kernelspec": {
      "name": "python3",
      "display_name": "Python 3"
    },
    "language_info": {
      "name": "python"
    },
    "accelerator": "GPU",
    "widgets": {
      "application/vnd.jupyter.widget-state+json": {
        "4ea23ea3508547b2aff7680bf2d14484": {
          "model_module": "@jupyter-widgets/controls",
          "model_name": "HBoxModel",
          "model_module_version": "1.5.0",
          "state": {
            "_dom_classes": [],
            "_model_module": "@jupyter-widgets/controls",
            "_model_module_version": "1.5.0",
            "_model_name": "HBoxModel",
            "_view_count": null,
            "_view_module": "@jupyter-widgets/controls",
            "_view_module_version": "1.5.0",
            "_view_name": "HBoxView",
            "box_style": "",
            "children": [
              "IPY_MODEL_7eaff978305842a4bb4bd12e06f851dc",
              "IPY_MODEL_920702228a544392bef984569713fa9c",
              "IPY_MODEL_415fa75ca010417c8dcd3a160432d386"
            ],
            "layout": "IPY_MODEL_ca26f964441d41c8b163072ed636f6fa"
          }
        },
        "7eaff978305842a4bb4bd12e06f851dc": {
          "model_module": "@jupyter-widgets/controls",
          "model_name": "HTMLModel",
          "model_module_version": "1.5.0",
          "state": {
            "_dom_classes": [],
            "_model_module": "@jupyter-widgets/controls",
            "_model_module_version": "1.5.0",
            "_model_name": "HTMLModel",
            "_view_count": null,
            "_view_module": "@jupyter-widgets/controls",
            "_view_module_version": "1.5.0",
            "_view_name": "HTMLView",
            "description": "",
            "description_tooltip": null,
            "layout": "IPY_MODEL_ba904ce0797f43519afce7eb1893ed50",
            "placeholder": "​",
            "style": "IPY_MODEL_a771ec245dcb4aeaa82e41edd93527bd",
            "value": "Loading checkpoint shards: 100%"
          }
        },
        "920702228a544392bef984569713fa9c": {
          "model_module": "@jupyter-widgets/controls",
          "model_name": "FloatProgressModel",
          "model_module_version": "1.5.0",
          "state": {
            "_dom_classes": [],
            "_model_module": "@jupyter-widgets/controls",
            "_model_module_version": "1.5.0",
            "_model_name": "FloatProgressModel",
            "_view_count": null,
            "_view_module": "@jupyter-widgets/controls",
            "_view_module_version": "1.5.0",
            "_view_name": "ProgressView",
            "bar_style": "success",
            "description": "",
            "description_tooltip": null,
            "layout": "IPY_MODEL_85bc21035c1f4f56994058fab6c0eb3c",
            "max": 2,
            "min": 0,
            "orientation": "horizontal",
            "style": "IPY_MODEL_0c0ddc9a9ca446e3b4ec0b7ddb440e17",
            "value": 2
          }
        },
        "415fa75ca010417c8dcd3a160432d386": {
          "model_module": "@jupyter-widgets/controls",
          "model_name": "HTMLModel",
          "model_module_version": "1.5.0",
          "state": {
            "_dom_classes": [],
            "_model_module": "@jupyter-widgets/controls",
            "_model_module_version": "1.5.0",
            "_model_name": "HTMLModel",
            "_view_count": null,
            "_view_module": "@jupyter-widgets/controls",
            "_view_module_version": "1.5.0",
            "_view_name": "HTMLView",
            "description": "",
            "description_tooltip": null,
            "layout": "IPY_MODEL_6fcb3b6efc7a4389b0fd980cfb460122",
            "placeholder": "​",
            "style": "IPY_MODEL_682406a7bf1a4027af9fbcd937f0a56b",
            "value": " 2/2 [00:04&lt;00:00,  2.09s/it]"
          }
        },
        "ca26f964441d41c8b163072ed636f6fa": {
          "model_module": "@jupyter-widgets/base",
          "model_name": "LayoutModel",
          "model_module_version": "1.2.0",
          "state": {
            "_model_module": "@jupyter-widgets/base",
            "_model_module_version": "1.2.0",
            "_model_name": "LayoutModel",
            "_view_count": null,
            "_view_module": "@jupyter-widgets/base",
            "_view_module_version": "1.2.0",
            "_view_name": "LayoutView",
            "align_content": null,
            "align_items": null,
            "align_self": null,
            "border": null,
            "bottom": null,
            "display": null,
            "flex": null,
            "flex_flow": null,
            "grid_area": null,
            "grid_auto_columns": null,
            "grid_auto_flow": null,
            "grid_auto_rows": null,
            "grid_column": null,
            "grid_gap": null,
            "grid_row": null,
            "grid_template_areas": null,
            "grid_template_columns": null,
            "grid_template_rows": null,
            "height": null,
            "justify_content": null,
            "justify_items": null,
            "left": null,
            "margin": null,
            "max_height": null,
            "max_width": null,
            "min_height": null,
            "min_width": null,
            "object_fit": null,
            "object_position": null,
            "order": null,
            "overflow": null,
            "overflow_x": null,
            "overflow_y": null,
            "padding": null,
            "right": null,
            "top": null,
            "visibility": null,
            "width": null
          }
        },
        "ba904ce0797f43519afce7eb1893ed50": {
          "model_module": "@jupyter-widgets/base",
          "model_name": "LayoutModel",
          "model_module_version": "1.2.0",
          "state": {
            "_model_module": "@jupyter-widgets/base",
            "_model_module_version": "1.2.0",
            "_model_name": "LayoutModel",
            "_view_count": null,
            "_view_module": "@jupyter-widgets/base",
            "_view_module_version": "1.2.0",
            "_view_name": "LayoutView",
            "align_content": null,
            "align_items": null,
            "align_self": null,
            "border": null,
            "bottom": null,
            "display": null,
            "flex": null,
            "flex_flow": null,
            "grid_area": null,
            "grid_auto_columns": null,
            "grid_auto_flow": null,
            "grid_auto_rows": null,
            "grid_column": null,
            "grid_gap": null,
            "grid_row": null,
            "grid_template_areas": null,
            "grid_template_columns": null,
            "grid_template_rows": null,
            "height": null,
            "justify_content": null,
            "justify_items": null,
            "left": null,
            "margin": null,
            "max_height": null,
            "max_width": null,
            "min_height": null,
            "min_width": null,
            "object_fit": null,
            "object_position": null,
            "order": null,
            "overflow": null,
            "overflow_x": null,
            "overflow_y": null,
            "padding": null,
            "right": null,
            "top": null,
            "visibility": null,
            "width": null
          }
        },
        "a771ec245dcb4aeaa82e41edd93527bd": {
          "model_module": "@jupyter-widgets/controls",
          "model_name": "DescriptionStyleModel",
          "model_module_version": "1.5.0",
          "state": {
            "_model_module": "@jupyter-widgets/controls",
            "_model_module_version": "1.5.0",
            "_model_name": "DescriptionStyleModel",
            "_view_count": null,
            "_view_module": "@jupyter-widgets/base",
            "_view_module_version": "1.2.0",
            "_view_name": "StyleView",
            "description_width": ""
          }
        },
        "85bc21035c1f4f56994058fab6c0eb3c": {
          "model_module": "@jupyter-widgets/base",
          "model_name": "LayoutModel",
          "model_module_version": "1.2.0",
          "state": {
            "_model_module": "@jupyter-widgets/base",
            "_model_module_version": "1.2.0",
            "_model_name": "LayoutModel",
            "_view_count": null,
            "_view_module": "@jupyter-widgets/base",
            "_view_module_version": "1.2.0",
            "_view_name": "LayoutView",
            "align_content": null,
            "align_items": null,
            "align_self": null,
            "border": null,
            "bottom": null,
            "display": null,
            "flex": null,
            "flex_flow": null,
            "grid_area": null,
            "grid_auto_columns": null,
            "grid_auto_flow": null,
            "grid_auto_rows": null,
            "grid_column": null,
            "grid_gap": null,
            "grid_row": null,
            "grid_template_areas": null,
            "grid_template_columns": null,
            "grid_template_rows": null,
            "height": null,
            "justify_content": null,
            "justify_items": null,
            "left": null,
            "margin": null,
            "max_height": null,
            "max_width": null,
            "min_height": null,
            "min_width": null,
            "object_fit": null,
            "object_position": null,
            "order": null,
            "overflow": null,
            "overflow_x": null,
            "overflow_y": null,
            "padding": null,
            "right": null,
            "top": null,
            "visibility": null,
            "width": null
          }
        },
        "0c0ddc9a9ca446e3b4ec0b7ddb440e17": {
          "model_module": "@jupyter-widgets/controls",
          "model_name": "ProgressStyleModel",
          "model_module_version": "1.5.0",
          "state": {
            "_model_module": "@jupyter-widgets/controls",
            "_model_module_version": "1.5.0",
            "_model_name": "ProgressStyleModel",
            "_view_count": null,
            "_view_module": "@jupyter-widgets/base",
            "_view_module_version": "1.2.0",
            "_view_name": "StyleView",
            "bar_color": null,
            "description_width": ""
          }
        },
        "6fcb3b6efc7a4389b0fd980cfb460122": {
          "model_module": "@jupyter-widgets/base",
          "model_name": "LayoutModel",
          "model_module_version": "1.2.0",
          "state": {
            "_model_module": "@jupyter-widgets/base",
            "_model_module_version": "1.2.0",
            "_model_name": "LayoutModel",
            "_view_count": null,
            "_view_module": "@jupyter-widgets/base",
            "_view_module_version": "1.2.0",
            "_view_name": "LayoutView",
            "align_content": null,
            "align_items": null,
            "align_self": null,
            "border": null,
            "bottom": null,
            "display": null,
            "flex": null,
            "flex_flow": null,
            "grid_area": null,
            "grid_auto_columns": null,
            "grid_auto_flow": null,
            "grid_auto_rows": null,
            "grid_column": null,
            "grid_gap": null,
            "grid_row": null,
            "grid_template_areas": null,
            "grid_template_columns": null,
            "grid_template_rows": null,
            "height": null,
            "justify_content": null,
            "justify_items": null,
            "left": null,
            "margin": null,
            "max_height": null,
            "max_width": null,
            "min_height": null,
            "min_width": null,
            "object_fit": null,
            "object_position": null,
            "order": null,
            "overflow": null,
            "overflow_x": null,
            "overflow_y": null,
            "padding": null,
            "right": null,
            "top": null,
            "visibility": null,
            "width": null
          }
        },
        "682406a7bf1a4027af9fbcd937f0a56b": {
          "model_module": "@jupyter-widgets/controls",
          "model_name": "DescriptionStyleModel",
          "model_module_version": "1.5.0",
          "state": {
            "_model_module": "@jupyter-widgets/controls",
            "_model_module_version": "1.5.0",
            "_model_name": "DescriptionStyleModel",
            "_view_count": null,
            "_view_module": "@jupyter-widgets/base",
            "_view_module_version": "1.2.0",
            "_view_name": "StyleView",
            "description_width": ""
          }
        }
      }
    }
  },
  "cells": [
    {
      "cell_type": "markdown",
      "metadata": {
        "id": "view-in-github",
        "colab_type": "text"
      },
      "source": [
        "<a href=\"https://colab.research.google.com/github/HummusGuy/COS-470-Project-Part-II-/blob/main/task2.ipynb\" target=\"_parent\"><img src=\"https://colab.research.google.com/assets/colab-badge.svg\" alt=\"Open In Colab\"/></a>"
      ]
    },
    {
      "cell_type": "code",
      "execution_count": 2,
      "metadata": {
        "colab": {
          "base_uri": "https://localhost:8080/"
        },
        "id": "agp46IZcay2X",
        "outputId": "b3441969-4952-4a95-e316-3eef9ed5fc74"
      },
      "outputs": [
        {
          "output_type": "stream",
          "name": "stdout",
          "text": [
            "\n",
            "    _|    _|  _|    _|    _|_|_|    _|_|_|  _|_|_|  _|      _|    _|_|_|      _|_|_|_|    _|_|      _|_|_|  _|_|_|_|\n",
            "    _|    _|  _|    _|  _|        _|          _|    _|_|    _|  _|            _|        _|    _|  _|        _|\n",
            "    _|_|_|_|  _|    _|  _|  _|_|  _|  _|_|    _|    _|  _|  _|  _|  _|_|      _|_|_|    _|_|_|_|  _|        _|_|_|\n",
            "    _|    _|  _|    _|  _|    _|  _|    _|    _|    _|    _|_|  _|    _|      _|        _|    _|  _|        _|\n",
            "    _|    _|    _|_|      _|_|_|    _|_|_|  _|_|_|  _|      _|    _|_|_|      _|        _|    _|    _|_|_|  _|_|_|_|\n",
            "\n",
            "    A token is already saved on your machine. Run `huggingface-cli whoami` to get more information or `huggingface-cli logout` if you want to log out.\n",
            "    Setting a new token will erase the existing one.\n",
            "    To login, `huggingface_hub` requires a token generated from https://huggingface.co/settings/tokens .\n",
            "Token: \n",
            "Add token as git credential? (Y/n) n\n",
            "Token is valid (permission: read).\n",
            "Your token has been saved to /root/.cache/huggingface/token\n",
            "Login successful\n"
          ]
        }
      ],
      "source": [
        "!huggingface-cli login"
      ]
    },
    {
      "cell_type": "code",
      "source": [
        "import pandas as pd\n",
        "import locale\n",
        "import torch\n",
        "import re\n",
        "import transformers\n",
        "from transformers import AutoTokenizer\n",
        "\n",
        "locale.setlocale(locale.LC_ALL, 'en_US.UTF-8')\n",
        "\n",
        "\n",
        "if torch.cuda.is_available():\n",
        "  torch.set_default_device(\"cuda\")\n",
        "  print(\"cuda\")\n",
        "else:\n",
        "  torch.set_default_device(\"cpu\")\n",
        "\n",
        "def import_tsv(file_path):\n",
        "    return pd.read_csv(file_path, sep='\\t')\n",
        "\n",
        "\n",
        "# Extract of to 5 terms\n",
        "def extract_difficult_terms(model, pipeline, tokenizer, category_to_passages):\n",
        "    passage_to_terms = {}\n",
        "    print(1)\n",
        "    for passage in category_to_passages:\n",
        "        input_text = f'''\n",
        "                    <s>[INST] <<SYS>>\n",
        "                    extract up to 5 difficult terms from this passage.\n",
        "                    do not define them, just list them.\n",
        "                    <</SYS>>\n",
        "                    {passage}\n",
        "                    [/INST]\n",
        "                    '''\n",
        "        sequences = pipeline(\n",
        "        input_text,\n",
        "    do_sample=True, top_k=1, num_return_sequences=1, eos_token_id=tokenizer.eos_token_id\n",
        ")\n",
        "        for seq in sequences:\n",
        "            result = seq['generated_text']\n",
        "\n",
        "        # Remove prompt echo\n",
        "        cleaned_result = result.replace(input_text, \"\")\n",
        "\n",
        "        passage_to_terms[passage] = cleaned_result\n",
        "\n",
        "    return passage_to_terms\n",
        "\n",
        "\n",
        "# Provide an explanation for the selected difficult terms\n",
        "def explain_difficult_terms(model, pipeline, tokenizer, passage_to_difficult_terms):\n",
        "    terms_to_explanations = {}\n",
        "\n",
        "    for passage, terms in passage_to_difficult_terms.items():\n",
        "        input_text = f'''\n",
        "                    <s>[INST] <<SYS>>\n",
        "                    provide a breif one sentence definition for each of the following terms.\n",
        "                    <</SYS>>\n",
        "                    {terms}\n",
        "                    [/INST]\n",
        "                    '''\n",
        "        sequences = pipeline(\n",
        "        input_text,\n",
        "        do_sample=True, top_k=1, num_return_sequences=1, eos_token_id=tokenizer.eos_token_id,\n",
        "        )\n",
        "\n",
        "        for seq in sequences:\n",
        "            result = seq['generated_text']\n",
        "\n",
        "        cleaned_result = result.replace(input_text, \"\")\n",
        "\n",
        "        terms_to_explanations[terms] = cleaned_result\n",
        "\n",
        "    return terms_to_explanations\n",
        "\n",
        "\n",
        "def main():\n",
        "    model = \"meta-llama/Llama-2-7b-chat-hf\"\n",
        "    tokenizer = AutoTokenizer.from_pretrained(model)\n",
        "    pipeline = transformers.pipeline(\n",
        "    \"text-generation\",\n",
        "    model=model, torch_dtype=torch.float16, device_map=\"auto\",\n",
        "    max_new_tokens=7500,)\n",
        "\n",
        "    # Testing data\n",
        "    data = import_tsv(\"task2_train.tsv\")\n",
        "    passage_ids = data[\"snt_id\"].tolist()\n",
        "    passages = data[\"source_snt\"].tolist()\n",
        "\n",
        "    passage_to_difficult_terms = extract_difficult_terms(model, pipeline, tokenizer,\n",
        "                                                         passages)\n",
        "\n",
        "    terms_to_definitions = explain_difficult_terms(model, pipeline, tokenizer, passage_to_difficult_terms)\n",
        "\n",
        "    passages_list = []\n",
        "    terms_list = []\n",
        "    explanations_list = []\n",
        "\n",
        "\n",
        "    for passage, terms in passage_to_difficult_terms.items():\n",
        "        explanation = terms_to_definitions.get(terms, \"\")\n",
        "        passages_list.append(passage)\n",
        "        terms_list.append(terms.strip())\n",
        "        explanations_list.append(explanation)\n",
        "\n",
        "    results_df = pd.DataFrame({\n",
        "        \"snt_id\": passage_ids,\n",
        "        \"Passage\": passages_list,\n",
        "        \"Identified Difficult Terms\": terms_list,\n",
        "        \"Explanations\": explanations_list\n",
        "    })\n",
        "\n",
        "\n",
        "    results_df.to_csv(\"results.tsv\", sep=\"\\t\", index=False)\n",
        "    !mv results.tsv /content/\n",
        "\n",
        "\n",
        "main()"
      ],
      "metadata": {
        "colab": {
          "base_uri": "https://localhost:8080/",
          "height": 256,
          "referenced_widgets": [
            "4ea23ea3508547b2aff7680bf2d14484",
            "7eaff978305842a4bb4bd12e06f851dc",
            "920702228a544392bef984569713fa9c",
            "415fa75ca010417c8dcd3a160432d386",
            "ca26f964441d41c8b163072ed636f6fa",
            "ba904ce0797f43519afce7eb1893ed50",
            "a771ec245dcb4aeaa82e41edd93527bd",
            "85bc21035c1f4f56994058fab6c0eb3c",
            "0c0ddc9a9ca446e3b4ec0b7ddb440e17",
            "6fcb3b6efc7a4389b0fd980cfb460122",
            "682406a7bf1a4027af9fbcd937f0a56b"
          ]
        },
        "id": "8oEV5FV_biJi",
        "outputId": "8911af9a-1b5c-43f7-88f8-dd12b592eb44"
      },
      "execution_count": 3,
      "outputs": [
        {
          "output_type": "stream",
          "name": "stdout",
          "text": [
            "cuda\n"
          ]
        },
        {
          "output_type": "stream",
          "name": "stderr",
          "text": [
            "/usr/local/lib/python3.10/dist-packages/huggingface_hub/utils/_token.py:88: UserWarning: \n",
            "The secret `HF_TOKEN` does not exist in your Colab secrets.\n",
            "To authenticate with the Hugging Face Hub, create a token in your settings tab (https://huggingface.co/settings/tokens), set it as secret in your Google Colab and restart your session.\n",
            "You will be able to reuse this secret in all of your notebooks.\n",
            "Please note that authentication is recommended but still optional to access public models or datasets.\n",
            "  warnings.warn(\n"
          ]
        },
        {
          "output_type": "display_data",
          "data": {
            "text/plain": [
              "Loading checkpoint shards:   0%|          | 0/2 [00:00<?, ?it/s]"
            ],
            "application/vnd.jupyter.widget-view+json": {
              "version_major": 2,
              "version_minor": 0,
              "model_id": "4ea23ea3508547b2aff7680bf2d14484"
            }
          },
          "metadata": {}
        },
        {
          "output_type": "stream",
          "name": "stdout",
          "text": [
            "1\n"
          ]
        },
        {
          "output_type": "stream",
          "name": "stderr",
          "text": [
            "/usr/local/lib/python3.10/dist-packages/transformers/pipelines/base.py:1157: UserWarning: You seem to be using the pipelines sequentially on GPU. In order to maximize efficiency please use a dataset\n",
            "  warnings.warn(\n"
          ]
        },
        {
          "output_type": "stream",
          "name": "stdout",
          "text": [
            "mv: 'results.tsv' and '/content/results.tsv' are the same file\n"
          ]
        }
      ]
    }
  ]
}